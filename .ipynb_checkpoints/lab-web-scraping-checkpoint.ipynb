{
 "cells": [
  {
   "cell_type": "markdown",
   "id": "7e7a1ab8-2599-417d-9a65-25ef07f3a786",
   "metadata": {
    "id": "7e7a1ab8-2599-417d-9a65-25ef07f3a786"
   },
   "source": [
    "# Lab | Web Scraping"
   ]
  },
  {
   "cell_type": "markdown",
   "id": "ce8882fc-4815-4567-92fa-b4816358ba7d",
   "metadata": {
    "id": "ce8882fc-4815-4567-92fa-b4816358ba7d"
   },
   "source": [
    "Welcome to the \"Books to Scrape\" Web Scraping Adventure Lab!\n",
    "\n",
    "**Objective**\n",
    "\n",
    "In this lab, we will embark on a mission to unearth valuable insights from the data available on Books to Scrape, an online platform showcasing a wide variety of books. As data analyst, you have been tasked with scraping a specific subset of book data from Books to Scrape to assist publishing companies in understanding the landscape of highly-rated books across different genres. Your insights will help shape future book marketing strategies and publishing decisions.\n",
    "\n",
    "**Background**\n",
    "\n",
    "In a world where data has become the new currency, businesses are leveraging big data to make informed decisions that drive success and profitability. The publishing industry, much like others, utilizes data analytics to understand market trends, reader preferences, and the performance of books based on factors such as genre, author, and ratings. Books to Scrape serves as a rich source of such data, offering detailed information about a diverse range of books, making it an ideal platform for extracting insights to aid in informed decision-making within the literary world.\n",
    "\n",
    "**Task**\n",
    "\n",
    "Your task is to create a Python script using BeautifulSoup and pandas to scrape Books to Scrape book data, focusing on book ratings and genres. The script should be able to filter books with ratings above a certain threshold and in specific genres. Additionally, the script should structure the scraped data in a tabular format using pandas for further analysis.\n",
    "\n",
    "**Expected Outcome**\n",
    "\n",
    "A function named `scrape_books` that takes two parameters: `min_rating` and `max_price`. The function should scrape book data from the \"Books to Scrape\" website and return a `pandas` DataFrame with the following columns:\n",
    "\n",
    "**Expected Outcome**\n",
    "\n",
    "- A function named `scrape_books` that takes two parameters: `min_rating` and `max_price`.\n",
    "- The function should return a DataFrame with the following columns:\n",
    "  - **UPC**: The Universal Product Code (UPC) of the book.\n",
    "  - **Title**: The title of the book.\n",
    "  - **Price (£)**: The price of the book in pounds.\n",
    "  - **Rating**: The rating of the book (1-5 stars).\n",
    "  - **Genre**: The genre of the book.\n",
    "  - **Availability**: Whether the book is in stock or not.\n",
    "  - **Description**: A brief description or product description of the book (if available).\n",
    "  \n",
    "You will execute this script to scrape data for books with a minimum rating of `4.0 and above` and a maximum price of `£20`. \n",
    "\n",
    "Remember to experiment with different ratings and prices to ensure your code is versatile and can handle various searches effectively!\n",
    "\n",
    "**Resources**\n",
    "\n",
    "- [Beautiful Soup Documentation](https://www.crummy.com/software/BeautifulSoup/bs4/doc/)\n",
    "- [Pandas Documentation](https://pandas.pydata.org/pandas-docs/stable/index.html)\n",
    "- [Books to Scrape](https://books.toscrape.com/)\n"
   ]
  },
  {
   "cell_type": "markdown",
   "id": "3519921d-5890-445b-9a33-934ed8ee378c",
   "metadata": {
    "id": "3519921d-5890-445b-9a33-934ed8ee378c"
   },
   "source": [
    "**Hint**\n",
    "\n",
    "Your first mission is to familiarize yourself with the **Books to Scrape** website. Navigate to [Books to Scrape](http://books.toscrape.com/) and explore the available books to understand their layout and structure. \n",
    "\n",
    "Next, think about how you can set parameters for your data extraction:\n",
    "\n",
    "- **Minimum Rating**: Focus on books with a rating of 4.0 and above.\n",
    "- **Maximum Price**: Filter for books priced up to £20.\n",
    "\n",
    "After reviewing the site, you can construct a plan for scraping relevant data. Pay attention to the details displayed for each book, including the title, price, rating, and availability. This will help you identify the correct HTML elements to target with your scraping script.\n",
    "\n",
    "Make sure to build your scraping URL and logic based on the patterns you observe in the HTML structure of the book listings!"
   ]
  },
  {
   "cell_type": "markdown",
   "id": "25a83a0d-a742-49f6-985e-e27887cbf922",
   "metadata": {
    "id": "25a83a0d-a742-49f6-985e-e27887cbf922"
   },
   "source": [
    "\n",
    "---\n",
    "\n",
    "**Best of luck! Immerse yourself in the world of books, and may the data be with you!**"
   ]
  },
  {
   "cell_type": "markdown",
   "id": "7b75cf0d-9afa-4eec-a9e2-befeac68b2a0",
   "metadata": {
    "id": "7b75cf0d-9afa-4eec-a9e2-befeac68b2a0"
   },
   "source": [
    "**Important Note**:\n",
    "\n",
    "In the fast-changing online world, websites often update and change their structures. When you try this lab, the **Books to Scrape** website might differ from what you expect.\n",
    "\n",
    "If you encounter issues due to these changes, like new rules or obstacles preventing data extraction, don’t worry! Get creative.\n",
    "\n",
    "You can choose another website that interests you and is suitable for scraping data. Options like Wikipedia, The New York Times, or even library databases are great alternatives. The main goal remains the same: extract useful data and enhance your web scraping skills while exploring a source of information you enjoy. This is your opportunity to practice and adapt to different web environments!"
   ]
  },
  {
   "cell_type": "code",
   "execution_count": 1,
   "id": "673d8c88-cc08-4cf9-b1c8-11bd1e0d9e6f",
   "metadata": {},
   "outputs": [],
   "source": [
    "import requests\n",
    "from bs4 import BeautifulSoup\n",
    "import pandas as pd\n",
    "\n",
    "BASE_URL = \"https://books.toscrape.com/catalogue/\"\n",
    "START_URL = BASE_URL + \"page-1.html\"\n",
    "\n",
    "# Map text rating → integer\n",
    "RATING_MAP = {\"One\": 1, \"Two\": 2, \"Three\": 3, \"Four\": 4, \"Five\": 5}\n",
    "\n",
    "def scrape_books(min_rating=4, max_price=20):\n",
    "    books_data = []\n",
    "    page_num = 1\n",
    "\n",
    "    while True:\n",
    "        url = f\"{BASE_URL}page-{page_num}.html\"\n",
    "        response = requests.get(url)\n",
    "        if response.status_code != 200:\n",
    "            break  # stop when no more pages\n",
    "\n",
    "        soup = BeautifulSoup(response.content, \"html.parser\")\n",
    "        articles = soup.find_all(\"article\", class_=\"product_pod\")\n",
    "\n",
    "        if not articles:\n",
    "            break\n",
    "\n",
    "        for article in articles:\n",
    "            # Title\n",
    "            title = article.h3.a[\"title\"]\n",
    "\n",
    "            # Rating\n",
    "            rating_tag = article.find(\"p\", class_=\"star-rating\")\n",
    "            rating_word = rating_tag[\"class\"][1] if rating_tag else None\n",
    "            rating = RATING_MAP.get(rating_word, 0)\n",
    "\n",
    "            # Price on main page\n",
    "            price_text = article.find(\"p\", class_=\"price_color\").get_text(strip=True)\n",
    "            price = float(price_text.lstrip(\"£\"))\n",
    "\n",
    "            # Skip if rating < min_rating or price > max_price\n",
    "            if rating < min_rating or price > max_price:\n",
    "                continue\n",
    "\n",
    "            # Detail page\n",
    "            relative_link = article.h3.a[\"href\"]\n",
    "            book_url = BASE_URL + relative_link.replace(\"../../../\", \"\")\n",
    "            book_response = requests.get(book_url)\n",
    "            book_soup = BeautifulSoup(book_response.content, \"html.parser\")\n",
    "\n",
    "            # UPC\n",
    "            table_rows = book_soup.find(\"table\", class_=\"table\").find_all(\"tr\")\n",
    "            upc = table_rows[0].find(\"td\").get_text(strip=True)\n",
    "\n",
    "            # Availability\n",
    "            availability = None\n",
    "            for row in table_rows:\n",
    "                if row.find(\"th\").get_text(strip=True) == \"Availability\":\n",
    "                    availability = row.find(\"td\").get_text(strip=True)\n",
    "                    break\n",
    "\n",
    "            # Genre (breadcrumb, 3rd li)\n",
    "            breadcrumb = book_soup.find(\"ul\", class_=\"breadcrumb\").find_all(\"li\")\n",
    "            genre = breadcrumb[2].get_text(strip=True)\n",
    "\n",
    "            # Description\n",
    "            desc = None\n",
    "            desc_header = book_soup.find(\"div\", id=\"product_description\")\n",
    "            if desc_header:\n",
    "                desc_tag = desc_header.find_next_sibling(\"p\")\n",
    "                desc = desc_tag.get_text(strip=True) if desc_tag else None\n",
    "\n",
    "            # Collect book data\n",
    "            books_data.append({\n",
    "                \"UPC\": upc,\n",
    "                \"Title\": title,\n",
    "                \"Price (£)\": price,\n",
    "                \"Rating\": rating,\n",
    "                \"Genre\": genre,\n",
    "                \"Availability\": availability,\n",
    "                \"Description\": desc\n",
    "            })\n",
    "\n",
    "        page_num += 1\n",
    "\n",
    "    return pd.DataFrame(books_data)\n",
    "\n",
    "        "
   ]
  }
 ],
 "metadata": {
  "colab": {
   "provenance": []
  },
  "kernelspec": {
   "display_name": "Python [conda env:base] *",
   "language": "python",
   "name": "conda-base-py"
  },
  "language_info": {
   "codemirror_mode": {
    "name": "ipython",
    "version": 3
   },
   "file_extension": ".py",
   "mimetype": "text/x-python",
   "name": "python",
   "nbconvert_exporter": "python",
   "pygments_lexer": "ipython3",
   "version": "3.13.5"
  }
 },
 "nbformat": 4,
 "nbformat_minor": 5
}
